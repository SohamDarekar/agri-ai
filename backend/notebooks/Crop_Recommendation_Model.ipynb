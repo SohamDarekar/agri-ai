{
  "nbformat": 4,
  "nbformat_minor": 0,
  "metadata": {
    "colab": {
      "provenance": [],
      "gpuType": "T4"
    },
    "kernelspec": {
      "name": "python3",
      "display_name": "Python 3"
    },
    "language_info": {
      "name": "python"
    },
    "accelerator": "GPU"
  },
  "cells": [
    {
      "cell_type": "code",
      "source": [
        "# This installs the known compatible versions and creates our recipe file\n",
        "!pip install scikit-learn==1.6.1 tensorflow==2.16.1 numpy==1.26.4 joblib==1.4.2\n",
        "!pip freeze > requirements.txt"
      ],
      "metadata": {
        "colab": {
          "base_uri": "https://localhost:8080/"
        },
        "id": "MOuYGULtNmpK",
        "outputId": "d750321a-dfe3-4c9c-ae60-29a969191912"
      },
      "execution_count": null,
      "outputs": [
        {
          "output_type": "stream",
          "name": "stdout",
          "text": [
            "Requirement already satisfied: scikit-learn==1.6.1 in /usr/local/lib/python3.12/dist-packages (1.6.1)\n",
            "Requirement already satisfied: tensorflow==2.16.1 in /usr/local/lib/python3.12/dist-packages (2.16.1)\n",
            "Requirement already satisfied: numpy==1.26.4 in /usr/local/lib/python3.12/dist-packages (1.26.4)\n",
            "Requirement already satisfied: joblib==1.4.2 in /usr/local/lib/python3.12/dist-packages (1.4.2)\n",
            "Requirement already satisfied: scipy>=1.6.0 in /usr/local/lib/python3.12/dist-packages (from scikit-learn==1.6.1) (1.16.1)\n",
            "Requirement already satisfied: threadpoolctl>=3.1.0 in /usr/local/lib/python3.12/dist-packages (from scikit-learn==1.6.1) (3.6.0)\n",
            "Requirement already satisfied: absl-py>=1.0.0 in /usr/local/lib/python3.12/dist-packages (from tensorflow==2.16.1) (1.4.0)\n",
            "Requirement already satisfied: astunparse>=1.6.0 in /usr/local/lib/python3.12/dist-packages (from tensorflow==2.16.1) (1.6.3)\n",
            "Requirement already satisfied: flatbuffers>=23.5.26 in /usr/local/lib/python3.12/dist-packages (from tensorflow==2.16.1) (25.2.10)\n",
            "Requirement already satisfied: gast!=0.5.0,!=0.5.1,!=0.5.2,>=0.2.1 in /usr/local/lib/python3.12/dist-packages (from tensorflow==2.16.1) (0.6.0)\n",
            "Requirement already satisfied: google-pasta>=0.1.1 in /usr/local/lib/python3.12/dist-packages (from tensorflow==2.16.1) (0.2.0)\n",
            "Requirement already satisfied: h5py>=3.10.0 in /usr/local/lib/python3.12/dist-packages (from tensorflow==2.16.1) (3.14.0)\n",
            "Requirement already satisfied: libclang>=13.0.0 in /usr/local/lib/python3.12/dist-packages (from tensorflow==2.16.1) (18.1.1)\n",
            "Requirement already satisfied: ml-dtypes~=0.3.1 in /usr/local/lib/python3.12/dist-packages (from tensorflow==2.16.1) (0.3.2)\n",
            "Requirement already satisfied: opt-einsum>=2.3.2 in /usr/local/lib/python3.12/dist-packages (from tensorflow==2.16.1) (3.4.0)\n",
            "Requirement already satisfied: packaging in /usr/local/lib/python3.12/dist-packages (from tensorflow==2.16.1) (25.0)\n",
            "Requirement already satisfied: protobuf!=4.21.0,!=4.21.1,!=4.21.2,!=4.21.3,!=4.21.4,!=4.21.5,<5.0.0dev,>=3.20.3 in /usr/local/lib/python3.12/dist-packages (from tensorflow==2.16.1) (4.25.8)\n",
            "Requirement already satisfied: requests<3,>=2.21.0 in /usr/local/lib/python3.12/dist-packages (from tensorflow==2.16.1) (2.32.4)\n",
            "Requirement already satisfied: setuptools in /usr/local/lib/python3.12/dist-packages (from tensorflow==2.16.1) (75.2.0)\n",
            "Requirement already satisfied: six>=1.12.0 in /usr/local/lib/python3.12/dist-packages (from tensorflow==2.16.1) (1.17.0)\n",
            "Requirement already satisfied: termcolor>=1.1.0 in /usr/local/lib/python3.12/dist-packages (from tensorflow==2.16.1) (3.1.0)\n",
            "Requirement already satisfied: typing-extensions>=3.6.6 in /usr/local/lib/python3.12/dist-packages (from tensorflow==2.16.1) (4.15.0)\n",
            "Requirement already satisfied: wrapt>=1.11.0 in /usr/local/lib/python3.12/dist-packages (from tensorflow==2.16.1) (1.17.3)\n",
            "Requirement already satisfied: grpcio<2.0,>=1.24.3 in /usr/local/lib/python3.12/dist-packages (from tensorflow==2.16.1) (1.74.0)\n",
            "Requirement already satisfied: tensorboard<2.17,>=2.16 in /usr/local/lib/python3.12/dist-packages (from tensorflow==2.16.1) (2.16.2)\n",
            "Requirement already satisfied: keras>=3.0.0 in /usr/local/lib/python3.12/dist-packages (from tensorflow==2.16.1) (3.10.0)\n",
            "Requirement already satisfied: wheel<1.0,>=0.23.0 in /usr/local/lib/python3.12/dist-packages (from astunparse>=1.6.0->tensorflow==2.16.1) (0.45.1)\n",
            "Requirement already satisfied: rich in /usr/local/lib/python3.12/dist-packages (from keras>=3.0.0->tensorflow==2.16.1) (13.9.4)\n",
            "Requirement already satisfied: namex in /usr/local/lib/python3.12/dist-packages (from keras>=3.0.0->tensorflow==2.16.1) (0.1.0)\n",
            "Requirement already satisfied: optree in /usr/local/lib/python3.12/dist-packages (from keras>=3.0.0->tensorflow==2.16.1) (0.17.0)\n",
            "Requirement already satisfied: charset_normalizer<4,>=2 in /usr/local/lib/python3.12/dist-packages (from requests<3,>=2.21.0->tensorflow==2.16.1) (3.4.3)\n",
            "Requirement already satisfied: idna<4,>=2.5 in /usr/local/lib/python3.12/dist-packages (from requests<3,>=2.21.0->tensorflow==2.16.1) (3.10)\n",
            "Requirement already satisfied: urllib3<3,>=1.21.1 in /usr/local/lib/python3.12/dist-packages (from requests<3,>=2.21.0->tensorflow==2.16.1) (2.5.0)\n",
            "Requirement already satisfied: certifi>=2017.4.17 in /usr/local/lib/python3.12/dist-packages (from requests<3,>=2.21.0->tensorflow==2.16.1) (2025.8.3)\n",
            "Requirement already satisfied: markdown>=2.6.8 in /usr/local/lib/python3.12/dist-packages (from tensorboard<2.17,>=2.16->tensorflow==2.16.1) (3.9)\n",
            "Requirement already satisfied: tensorboard-data-server<0.8.0,>=0.7.0 in /usr/local/lib/python3.12/dist-packages (from tensorboard<2.17,>=2.16->tensorflow==2.16.1) (0.7.2)\n",
            "Requirement already satisfied: werkzeug>=1.0.1 in /usr/local/lib/python3.12/dist-packages (from tensorboard<2.17,>=2.16->tensorflow==2.16.1) (3.1.3)\n",
            "Requirement already satisfied: MarkupSafe>=2.1.1 in /usr/local/lib/python3.12/dist-packages (from werkzeug>=1.0.1->tensorboard<2.17,>=2.16->tensorflow==2.16.1) (3.0.2)\n",
            "Requirement already satisfied: markdown-it-py>=2.2.0 in /usr/local/lib/python3.12/dist-packages (from rich->keras>=3.0.0->tensorflow==2.16.1) (4.0.0)\n",
            "Requirement already satisfied: pygments<3.0.0,>=2.13.0 in /usr/local/lib/python3.12/dist-packages (from rich->keras>=3.0.0->tensorflow==2.16.1) (2.19.2)\n",
            "Requirement already satisfied: mdurl~=0.1 in /usr/local/lib/python3.12/dist-packages (from markdown-it-py>=2.2.0->rich->keras>=3.0.0->tensorflow==2.16.1) (0.1.2)\n"
          ]
        }
      ]
    },
    {
      "cell_type": "code",
      "source": [
        "import pandas as pd\n",
        "import numpy as np\n",
        "\n",
        "# Load the original dataset\n",
        "df = pd.read_csv('Crop_recommendation.csv')\n",
        "\n",
        "# --- Add Soil Type ---\n",
        "# Define which soil types are suitable for which crops (simplified for this example)\n",
        "soil_map = {\n",
        "    'Loamy': ['rice', 'jute', 'maize', 'lentil', 'chickpea', 'kidneybeans', 'pigeonpeas'],\n",
        "    'Sandy': ['watermelon', 'muskmelon', 'mothbeans', 'mungbean'],\n",
        "    'Clayey': ['cotton', 'blackgram'],\n",
        "    'Black': ['soybean', 'cotton'], # Some crops thrive in multiple types\n",
        "    'Red': ['coffee', 'pomegranate', 'mango', 'grapes', 'orange', 'papaya', 'apple', 'banana']\n",
        "}\n",
        "\n",
        "# Create a reverse map for easier lookup\n",
        "crop_to_soil = {crop: soil for soil, crops in soil_map.items() for crop in crops}\n",
        "df['soil_type'] = df['label'].map(crop_to_soil)\n",
        "\n",
        "# --- Add Market Price (Synthesized) ---\n",
        "# Define base prices (in INR per quintal) and add some random variation\n",
        "price_map = {\n",
        "    'rice': 2200, 'maize': 2100, 'chickpea': 5400, 'kidneybeans': 7000,\n",
        "    'pigeonpeas': 7000, 'mothbeans': 8500, 'mungbean': 8550, 'blackgram': 6950,\n",
        "    'lentil': 6000, 'cotton': 7000, 'jute': 5000, 'coffee': 8000,\n",
        "    'pomegranate': 15000, 'banana': 1500, 'mango': 4000, 'grapes': 5000,\n",
        "    'orange': 3500, 'papaya': 1200, 'coconut': 2500, 'apple': 9000,\n",
        "    'watermelon': 1000, 'muskmelon': 1800, 'soybean': 4600\n",
        "}\n",
        "\n",
        "def get_price(crop):\n",
        "    base_price = price_map.get(crop, 2000)\n",
        "    return round(base_price * np.random.uniform(0.9, 1.1), 2)\n",
        "\n",
        "df['market_price'] = df['label'].apply(get_price)\n",
        "\n",
        "# Save the new, enriched dataset to a new file\n",
        "df.to_csv('Crop_recommendation_enriched.csv', index=False)\n",
        "\n",
        "print(\"✅ Enriched dataset created successfully: 'Crop_recommendation_enriched.csv'\")\n",
        "print(\"\\nNew columns added:\")\n",
        "print(df.head())"
      ],
      "metadata": {
        "colab": {
          "base_uri": "https://localhost:8080/"
        },
        "id": "8Fn3s-jjQe2s",
        "outputId": "d5aa1a0e-eafd-4200-fc3a-f1ce6690d9f3"
      },
      "execution_count": null,
      "outputs": [
        {
          "output_type": "stream",
          "name": "stdout",
          "text": [
            "✅ Enriched dataset created successfully: 'Crop_recommendation_enriched.csv'\n",
            "\n",
            "New columns added:\n",
            "    N   P   K  temperature   humidity        ph    rainfall label soil_type  \\\n",
            "0  90  42  43    20.879744  82.002744  6.502985  202.935536  rice     Loamy   \n",
            "1  85  58  41    21.770462  80.319644  7.038096  226.655537  rice     Loamy   \n",
            "2  60  55  44    23.004459  82.320763  7.840207  263.964248  rice     Loamy   \n",
            "3  74  35  40    26.491096  80.158363  6.980401  242.864034  rice     Loamy   \n",
            "4  78  42  42    20.130175  81.604873  7.628473  262.717340  rice     Loamy   \n",
            "\n",
            "   market_price  \n",
            "0       2291.78  \n",
            "1       2161.35  \n",
            "2       2245.89  \n",
            "3       1994.49  \n",
            "4       2167.71  \n"
          ]
        }
      ]
    },
    {
      "cell_type": "code",
      "source": [
        "# --- 1. Install Libraries and Import ---\n",
        "!pip install xgboost scikit-learn pandas\n",
        "\n",
        "import pandas as pd\n",
        "from sklearn.model_selection import train_test_split\n",
        "from sklearn.compose import ColumnTransformer\n",
        "from sklearn.preprocessing import OneHotEncoder, LabelEncoder # Import LabelEncoder\n",
        "from sklearn.pipeline import Pipeline\n",
        "import xgboost as xgb\n",
        "import joblib\n",
        "\n",
        "# --- 2. Load the Enriched Dataset ---\n",
        "df = pd.read_csv('Crop_recommendation_enriched.csv')\n",
        "\n",
        "# --- 3. Prepare the Data for Training ---\n",
        "X = df.drop('label', axis=1)\n",
        "y = df['label']\n",
        "\n",
        "# --- FIX IS HERE ---\n",
        "# Convert text labels to integers\n",
        "le = LabelEncoder()\n",
        "y_encoded = le.fit_transform(y)\n",
        "\n",
        "# Save the fitted LabelEncoder to a file\n",
        "joblib.dump(le, 'label_encoder.pkl')\n",
        "print(\"✅ LabelEncoder saved to label_encoder.pkl\")\n",
        "\n",
        "# Identify categorical and numerical features\n",
        "categorical_features = ['soil_type']\n",
        "numerical_features = ['N', 'P', 'K', 'temperature', 'humidity', 'ph', 'rainfall', 'market_price']\n",
        "\n",
        "# Create a preprocessor to handle different data types\n",
        "preprocessor = ColumnTransformer(\n",
        "    transformers=[\n",
        "        ('num', 'passthrough', numerical_features),\n",
        "        ('cat', OneHotEncoder(), categorical_features)\n",
        "    ])\n",
        "\n",
        "# --- 4. Create and Train the XGBoost Model using a Pipeline ---\n",
        "model_pipeline = Pipeline(steps=[\n",
        "    ('preprocessor', preprocessor),\n",
        "    ('classifier', xgb.XGBClassifier(\n",
        "        objective='multi:softmax',\n",
        "        n_estimators=150,\n",
        "        learning_rate=0.1,\n",
        "        max_depth=5,\n",
        "        random_state=42,\n",
        "        use_label_encoder=False,\n",
        "        eval_metric='mlogloss'\n",
        "    ))\n",
        "])\n",
        "\n",
        "# Split the data, using the new y_encoded\n",
        "X_train, X_test, y_train, y_test = train_test_split(X, y_encoded, test_size=0.2, random_state=42)\n",
        "\n",
        "# Train the entire pipeline\n",
        "print(\"Training the full pipeline with XGBoost model...\")\n",
        "model_pipeline.fit(X_train, y_train)\n",
        "print(\"Training complete!\")\n",
        "\n",
        "# --- 5. Evaluate and Save the Model ---\n",
        "accuracy = model_pipeline.score(X_test, y_test)\n",
        "print(f\"Model Accuracy on enriched data: {accuracy * 100:.2f}%\")\n",
        "\n",
        "model_filename = 'crop_recommender_xgb.pkl'\n",
        "joblib.dump(model_pipeline, model_filename)\n",
        "print(f\"Enriched XGBoost model saved to {model_filename}\")"
      ],
      "metadata": {
        "id": "qWhs9ra_NJl2",
        "colab": {
          "base_uri": "https://localhost:8080/"
        },
        "outputId": "961e430a-29ce-40da-bfe8-24a6e6a29d5c"
      },
      "execution_count": null,
      "outputs": [
        {
          "output_type": "stream",
          "name": "stdout",
          "text": [
            "Requirement already satisfied: xgboost in /usr/local/lib/python3.12/dist-packages (3.0.4)\n",
            "Requirement already satisfied: scikit-learn in /usr/local/lib/python3.12/dist-packages (1.6.1)\n",
            "Requirement already satisfied: pandas in /usr/local/lib/python3.12/dist-packages (2.2.2)\n",
            "Requirement already satisfied: numpy in /usr/local/lib/python3.12/dist-packages (from xgboost) (1.26.4)\n",
            "Requirement already satisfied: nvidia-nccl-cu12 in /usr/local/lib/python3.12/dist-packages (from xgboost) (2.27.3)\n",
            "Requirement already satisfied: scipy in /usr/local/lib/python3.12/dist-packages (from xgboost) (1.16.1)\n",
            "Requirement already satisfied: joblib>=1.2.0 in /usr/local/lib/python3.12/dist-packages (from scikit-learn) (1.4.2)\n",
            "Requirement already satisfied: threadpoolctl>=3.1.0 in /usr/local/lib/python3.12/dist-packages (from scikit-learn) (3.6.0)\n",
            "Requirement already satisfied: python-dateutil>=2.8.2 in /usr/local/lib/python3.12/dist-packages (from pandas) (2.9.0.post0)\n",
            "Requirement already satisfied: pytz>=2020.1 in /usr/local/lib/python3.12/dist-packages (from pandas) (2025.2)\n",
            "Requirement already satisfied: tzdata>=2022.7 in /usr/local/lib/python3.12/dist-packages (from pandas) (2025.2)\n",
            "Requirement already satisfied: six>=1.5 in /usr/local/lib/python3.12/dist-packages (from python-dateutil>=2.8.2->pandas) (1.17.0)\n",
            "✅ LabelEncoder saved to label_encoder.pkl\n",
            "Training the full pipeline with XGBoost model...\n"
          ]
        },
        {
          "output_type": "stream",
          "name": "stderr",
          "text": [
            "/usr/local/lib/python3.12/dist-packages/xgboost/training.py:183: UserWarning: [09:04:10] WARNING: /workspace/src/learner.cc:738: \n",
            "Parameters: { \"use_label_encoder\" } are not used.\n",
            "\n",
            "  bst.update(dtrain, iteration=i, fobj=obj)\n"
          ]
        },
        {
          "output_type": "stream",
          "name": "stdout",
          "text": [
            "Training complete!\n",
            "Model Accuracy on enriched data: 100.00%\n",
            "Enriched XGBoost model saved to crop_recommender_xgb.pkl\n"
          ]
        }
      ]
    },
    {
      "cell_type": "code",
      "source": [],
      "metadata": {
        "id": "ed4LwtB_N31f"
      },
      "execution_count": null,
      "outputs": []
    }
  ]
}