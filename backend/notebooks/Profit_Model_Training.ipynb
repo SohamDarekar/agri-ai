{
  "nbformat": 4,
  "nbformat_minor": 0,
  "metadata": {
    "colab": {
      "provenance": [],
      "gpuType": "T4"
    },
    "kernelspec": {
      "name": "python3",
      "display_name": "Python 3"
    },
    "language_info": {
      "name": "python"
    },
    "accelerator": "GPU"
  },
  "cells": [
    {
      "cell_type": "code",
      "execution_count": 1,
      "metadata": {
        "colab": {
          "base_uri": "https://localhost:8080/"
        },
        "id": "MHBu7NZmVdaO",
        "outputId": "162c112d-725a-4571-fb0a-3aded010dba5"
      },
      "outputs": [
        {
          "output_type": "stream",
          "name": "stdout",
          "text": [
            "Requirement already satisfied: scikit-learn==1.6.1 in /usr/local/lib/python3.12/dist-packages (1.6.1)\n",
            "Requirement already satisfied: tensorflow==2.16.1 in /usr/local/lib/python3.12/dist-packages (2.16.1)\n",
            "Requirement already satisfied: numpy==1.26.4 in /usr/local/lib/python3.12/dist-packages (1.26.4)\n",
            "Requirement already satisfied: joblib==1.4.2 in /usr/local/lib/python3.12/dist-packages (1.4.2)\n",
            "Requirement already satisfied: scipy>=1.6.0 in /usr/local/lib/python3.12/dist-packages (from scikit-learn==1.6.1) (1.16.1)\n",
            "Requirement already satisfied: threadpoolctl>=3.1.0 in /usr/local/lib/python3.12/dist-packages (from scikit-learn==1.6.1) (3.6.0)\n",
            "Requirement already satisfied: absl-py>=1.0.0 in /usr/local/lib/python3.12/dist-packages (from tensorflow==2.16.1) (1.4.0)\n",
            "Requirement already satisfied: astunparse>=1.6.0 in /usr/local/lib/python3.12/dist-packages (from tensorflow==2.16.1) (1.6.3)\n",
            "Requirement already satisfied: flatbuffers>=23.5.26 in /usr/local/lib/python3.12/dist-packages (from tensorflow==2.16.1) (25.2.10)\n",
            "Requirement already satisfied: gast!=0.5.0,!=0.5.1,!=0.5.2,>=0.2.1 in /usr/local/lib/python3.12/dist-packages (from tensorflow==2.16.1) (0.6.0)\n",
            "Requirement already satisfied: google-pasta>=0.1.1 in /usr/local/lib/python3.12/dist-packages (from tensorflow==2.16.1) (0.2.0)\n",
            "Requirement already satisfied: h5py>=3.10.0 in /usr/local/lib/python3.12/dist-packages (from tensorflow==2.16.1) (3.14.0)\n",
            "Requirement already satisfied: libclang>=13.0.0 in /usr/local/lib/python3.12/dist-packages (from tensorflow==2.16.1) (18.1.1)\n",
            "Requirement already satisfied: ml-dtypes~=0.3.1 in /usr/local/lib/python3.12/dist-packages (from tensorflow==2.16.1) (0.3.2)\n",
            "Requirement already satisfied: opt-einsum>=2.3.2 in /usr/local/lib/python3.12/dist-packages (from tensorflow==2.16.1) (3.4.0)\n",
            "Requirement already satisfied: packaging in /usr/local/lib/python3.12/dist-packages (from tensorflow==2.16.1) (25.0)\n",
            "Requirement already satisfied: protobuf!=4.21.0,!=4.21.1,!=4.21.2,!=4.21.3,!=4.21.4,!=4.21.5,<5.0.0dev,>=3.20.3 in /usr/local/lib/python3.12/dist-packages (from tensorflow==2.16.1) (4.25.8)\n",
            "Requirement already satisfied: requests<3,>=2.21.0 in /usr/local/lib/python3.12/dist-packages (from tensorflow==2.16.1) (2.32.4)\n",
            "Requirement already satisfied: setuptools in /usr/local/lib/python3.12/dist-packages (from tensorflow==2.16.1) (75.2.0)\n",
            "Requirement already satisfied: six>=1.12.0 in /usr/local/lib/python3.12/dist-packages (from tensorflow==2.16.1) (1.17.0)\n",
            "Requirement already satisfied: termcolor>=1.1.0 in /usr/local/lib/python3.12/dist-packages (from tensorflow==2.16.1) (3.1.0)\n",
            "Requirement already satisfied: typing-extensions>=3.6.6 in /usr/local/lib/python3.12/dist-packages (from tensorflow==2.16.1) (4.15.0)\n",
            "Requirement already satisfied: wrapt>=1.11.0 in /usr/local/lib/python3.12/dist-packages (from tensorflow==2.16.1) (1.17.3)\n",
            "Requirement already satisfied: grpcio<2.0,>=1.24.3 in /usr/local/lib/python3.12/dist-packages (from tensorflow==2.16.1) (1.74.0)\n",
            "Requirement already satisfied: tensorboard<2.17,>=2.16 in /usr/local/lib/python3.12/dist-packages (from tensorflow==2.16.1) (2.16.2)\n",
            "Requirement already satisfied: keras>=3.0.0 in /usr/local/lib/python3.12/dist-packages (from tensorflow==2.16.1) (3.10.0)\n",
            "Requirement already satisfied: wheel<1.0,>=0.23.0 in /usr/local/lib/python3.12/dist-packages (from astunparse>=1.6.0->tensorflow==2.16.1) (0.45.1)\n",
            "Requirement already satisfied: rich in /usr/local/lib/python3.12/dist-packages (from keras>=3.0.0->tensorflow==2.16.1) (13.9.4)\n",
            "Requirement already satisfied: namex in /usr/local/lib/python3.12/dist-packages (from keras>=3.0.0->tensorflow==2.16.1) (0.1.0)\n",
            "Requirement already satisfied: optree in /usr/local/lib/python3.12/dist-packages (from keras>=3.0.0->tensorflow==2.16.1) (0.17.0)\n",
            "Requirement already satisfied: charset_normalizer<4,>=2 in /usr/local/lib/python3.12/dist-packages (from requests<3,>=2.21.0->tensorflow==2.16.1) (3.4.3)\n",
            "Requirement already satisfied: idna<4,>=2.5 in /usr/local/lib/python3.12/dist-packages (from requests<3,>=2.21.0->tensorflow==2.16.1) (3.10)\n",
            "Requirement already satisfied: urllib3<3,>=1.21.1 in /usr/local/lib/python3.12/dist-packages (from requests<3,>=2.21.0->tensorflow==2.16.1) (2.5.0)\n",
            "Requirement already satisfied: certifi>=2017.4.17 in /usr/local/lib/python3.12/dist-packages (from requests<3,>=2.21.0->tensorflow==2.16.1) (2025.8.3)\n",
            "Requirement already satisfied: markdown>=2.6.8 in /usr/local/lib/python3.12/dist-packages (from tensorboard<2.17,>=2.16->tensorflow==2.16.1) (3.9)\n",
            "Requirement already satisfied: tensorboard-data-server<0.8.0,>=0.7.0 in /usr/local/lib/python3.12/dist-packages (from tensorboard<2.17,>=2.16->tensorflow==2.16.1) (0.7.2)\n",
            "Requirement already satisfied: werkzeug>=1.0.1 in /usr/local/lib/python3.12/dist-packages (from tensorboard<2.17,>=2.16->tensorflow==2.16.1) (3.1.3)\n",
            "Requirement already satisfied: MarkupSafe>=2.1.1 in /usr/local/lib/python3.12/dist-packages (from werkzeug>=1.0.1->tensorboard<2.17,>=2.16->tensorflow==2.16.1) (3.0.2)\n",
            "Requirement already satisfied: markdown-it-py>=2.2.0 in /usr/local/lib/python3.12/dist-packages (from rich->keras>=3.0.0->tensorflow==2.16.1) (4.0.0)\n",
            "Requirement already satisfied: pygments<3.0.0,>=2.13.0 in /usr/local/lib/python3.12/dist-packages (from rich->keras>=3.0.0->tensorflow==2.16.1) (2.19.2)\n",
            "Requirement already satisfied: mdurl~=0.1 in /usr/local/lib/python3.12/dist-packages (from markdown-it-py>=2.2.0->rich->keras>=3.0.0->tensorflow==2.16.1) (0.1.2)\n"
          ]
        }
      ],
      "source": [
        "# This installs the known compatible versions and creates our recipe file\n",
        "!pip install scikit-learn==1.6.1 tensorflow==2.16.1 numpy==1.26.4 joblib==1.4.2\n",
        "!pip freeze > requirements.txt"
      ]
    },
    {
      "cell_type": "code",
      "source": [
        "# --- 1. Import Necessary Libraries ---\n",
        "import pandas as pd\n",
        "import numpy as np\n",
        "from sklearn.model_selection import train_test_split\n",
        "from sklearn.ensemble import GradientBoostingRegressor\n",
        "from sklearn.preprocessing import OneHotEncoder\n",
        "from sklearn.metrics import mean_squared_error, mean_absolute_error, r2_score\n",
        "import joblib\n",
        "import os\n",
        "\n",
        "print(\"--- Starting Yield Model Training with Crop Encoding ---\")\n",
        "os.makedirs('models', exist_ok=True)\n",
        "\n",
        "# --- 2. Load the Base Dataset ---\n",
        "df = pd.read_csv('Crop_recommendation.csv')\n",
        "\n",
        "# --- 3. Synthesize Yield Data ---\n",
        "crop_yield_data = {\n",
        "    'rice': 3.8, 'maize': 3.5, 'chickpea': 0.9, 'kidneybeans': 1.2,\n",
        "    'pigeonpeas': 0.8, 'mothbeans': 0.5, 'mungbean': 0.6, 'blackgram': 0.7,\n",
        "    'lentil': 0.8, 'cotton': 1.5, 'jute': 2.2, 'coffee': 0.7,\n",
        "    'pomegranate': 10.5, 'banana': 60.0, 'mango': 7.5, 'grapes': 22.0,\n",
        "    'orange': 15.0, 'papaya': 40.0, 'coconut': 9.0, 'apple': 8.0,\n",
        "    'watermelon': 25.0, 'muskmelon': 20.0,\n",
        "}\n",
        "def synthesize_yield(row):\n",
        "    crop = row['label']\n",
        "    base_yield = crop_yield_data.get(crop, 0)\n",
        "    variation = base_yield * np.random.uniform(-0.15, 0.15)\n",
        "    return round(base_yield + variation, 2)\n",
        "df['yield'] = df.apply(synthesize_yield, axis=1)\n",
        "print(\"Step 1: Yield column synthesized.\")\n",
        "\n",
        "# --- 4. Add Extra Crops (Barley & Millet) ---\n",
        "new_data = []\n",
        "for _ in range(100):\n",
        "    new_data.append({\n",
        "        'N': np.random.randint(30, 50), 'P': np.random.randint(20, 40), 'K': np.random.randint(15, 25),\n",
        "        'temperature': np.random.uniform(18, 22), 'humidity': np.random.uniform(60, 70),\n",
        "        'ph': np.random.uniform(7.5, 8.0), 'rainfall': np.random.uniform(20, 40),\n",
        "        'label': 'barley', 'yield': round(2.5 * np.random.uniform(0.85, 1.15), 2)\n",
        "    })\n",
        "    new_data.append({\n",
        "        'N': np.random.randint(20, 40), 'P': np.random.randint(20, 40), 'K': np.random.randint(15, 25),\n",
        "        'temperature': np.random.uniform(26, 30), 'humidity': np.random.uniform(50, 60),\n",
        "        'ph': np.random.uniform(6.5, 7.5), 'rainfall': np.random.uniform(40, 60),\n",
        "        'label': 'millet', 'yield': round(1.8 * np.random.uniform(0.85, 1.15), 2)\n",
        "    })\n",
        "df_new = pd.DataFrame(new_data)\n",
        "df_expanded = pd.concat([df, df_new], ignore_index=True)\n",
        "print(\"Step 2: Expanded dataset created.\")\n",
        "\n",
        "# --- 5. Encode Crop Labels ---\n",
        "encoder = OneHotEncoder(sparse_output=False, handle_unknown='ignore')\n",
        "encoded_labels = encoder.fit_transform(df_expanded[['label']])\n",
        "\n",
        "# --- FIX IS HERE ---\n",
        "# Call get_feature_names_out() without arguments\n",
        "encoded_labels_df = pd.DataFrame(encoded_labels, columns=encoder.get_feature_names_out())\n",
        "\n",
        "X = pd.concat([\n",
        "    df_expanded.drop(['label', 'yield'], axis=1).reset_index(drop=True),\n",
        "    encoded_labels_df.reset_index(drop=True)\n",
        "], axis=1)\n",
        "y = df_expanded['yield']\n",
        "print(\"Step 3: Features and labels prepared.\")\n",
        "\n",
        "# --- 6. Split Dataset ---\n",
        "X_train, X_test, y_train, y_test = train_test_split(X, y, test_size=0.2, random_state=42)\n",
        "print(\"Step 4: Train/test split complete.\")\n",
        "\n",
        "# --- 7. Train the Model ---\n",
        "yield_model = GradientBoostingRegressor(n_estimators=200, random_state=42)\n",
        "print(\"Step 5: Training Gradient Boosting Regressor...\")\n",
        "yield_model.fit(X_train, y_train)\n",
        "print(\"         ...Training complete.\")\n",
        "\n",
        "# --- 8. Evaluate Model ---\n",
        "y_pred = yield_model.predict(X_test)\n",
        "r2 = r2_score(y_test, y_pred)\n",
        "rmse = np.sqrt(mean_squared_error(y_test, y_pred))\n",
        "mae = mean_absolute_error(y_test, y_pred)\n",
        "print(f\"Step 6: Model Evaluation\")\n",
        "print(f\"    R² Score : {r2:.2f}\")\n",
        "print(f\"    RMSE     : {rmse:.2f}\")\n",
        "print(f\"    MAE      : {mae:.2f}\")\n",
        "\n",
        "# --- 9. Save Model and Encoder ---\n",
        "joblib.dump(yield_model, 'models/yield_predictor_v2.pkl')\n",
        "joblib.dump(encoder, 'models/crop_label_encoder.pkl')\n",
        "print(\"Step 7: Model and encoder saved.\")\n",
        "\n",
        "# --- 10. Test Prediction ---\n",
        "# This part of the script will also need to be updated to match the new column names\n",
        "# For example, the new columns will be 'label_rice', 'label_barley', etc.\n",
        "# This is just for testing in the notebook; the main.py file will handle this correctly."
      ],
      "metadata": {
        "colab": {
          "base_uri": "https://localhost:8080/"
        },
        "id": "-oGDHWDLVlb1",
        "outputId": "c884fdae-23c2-436d-8da8-6589ddf84972"
      },
      "execution_count": 5,
      "outputs": [
        {
          "output_type": "stream",
          "name": "stdout",
          "text": [
            "--- Starting Yield Model Training with Crop Encoding ---\n",
            "Step 1: Yield column synthesized.\n",
            "Step 2: Expanded dataset created.\n",
            "Step 3: Features and labels prepared.\n",
            "Step 4: Train/test split complete.\n",
            "Step 5: Training Gradient Boosting Regressor...\n",
            "         ...Training complete.\n",
            "Step 6: Model Evaluation\n",
            "    R² Score : 0.98\n",
            "    RMSE     : 2.06\n",
            "    MAE      : 1.10\n",
            "Step 7: Model and encoder saved.\n"
          ]
        }
      ]
    },
    {
      "cell_type": "code",
      "source": [],
      "metadata": {
        "id": "OoZc6rEUerUq"
      },
      "execution_count": null,
      "outputs": []
    }
  ]
}